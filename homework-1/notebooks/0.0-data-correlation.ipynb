{
 "cells": [
  {
   "cell_type": "code",
   "execution_count": 1,
   "metadata": {},
   "outputs": [],
   "source": [
    "import pandas as pd\n",
    "import seaborn as sns"
   ]
  },
  {
   "cell_type": "code",
   "execution_count": 2,
   "metadata": {},
   "outputs": [],
   "source": [
    "gender_baseline = pd.read_csv(\"../data/gender_baseline.csv\")\n",
    "titanic_train = pd.read_csv(\"../data/titanic_train.csv\")\n",
    "titanic_test = pd.read_csv(\"../data/titanic_test.csv\")"
   ]
  },
  {
   "cell_type": "markdown",
   "metadata": {},
   "source": [
    "Признаки:  \n",
    "`pclass` - класс билета (1, 2 и 3)  \n",
    "`sex` - пол  \n",
    "`age` - возраст  \n",
    "`sibsp` - число братьев, сестер или супругов на борту у человека  \n",
    "`parch` - количество родителей или детей человека на борту  \n",
    "`fare` - стоимость тарифа   \n",
    "`embarked` - порт посадки  \n",
    "`survived` - выжил/нет  "
   ]
  },
  {
   "cell_type": "code",
   "execution_count": 3,
   "metadata": {
    "scrolled": true
   },
   "outputs": [
    {
     "data": {
      "text/plain": [
       "passenger_id      0\n",
       "pclass            0\n",
       "name              0\n",
       "sex               0\n",
       "age             174\n",
       "sibsp             0\n",
       "parch             0\n",
       "ticket            0\n",
       "fare              1\n",
       "cabin           659\n",
       "embarked          1\n",
       "boat            542\n",
       "body            777\n",
       "home.dest       386\n",
       "survived          0\n",
       "dtype: int64"
      ]
     },
     "execution_count": 3,
     "metadata": {},
     "output_type": "execute_result"
    }
   ],
   "source": [
    "titanic_train.isna().sum()"
   ]
  },
  {
   "cell_type": "code",
   "execution_count": 4,
   "metadata": {},
   "outputs": [],
   "source": [
    "titanic_train_drop = titanic_train[[\"passenger_id\", \"pclass\", \"sex\", \"age\", \"fare\", \"embarked\", \"survived\"]].dropna()"
   ]
  },
  {
   "cell_type": "code",
   "execution_count": 5,
   "metadata": {},
   "outputs": [],
   "source": [
    "titanic_train_corr = titanic_train_drop.corr(method=\"pearson\")"
   ]
  },
  {
   "cell_type": "code",
   "execution_count": 6,
   "metadata": {},
   "outputs": [
    {
     "data": {
      "text/plain": [
       "<AxesSubplot:>"
      ]
     },
     "execution_count": 6,
     "metadata": {},
     "output_type": "execute_result"
    },
    {
     "data": {
      "image/png": "[encoded data removed]",
      "text/plain": [
       "<Figure size 432x288 with 2 Axes>"
      ]
     },
     "metadata": {
      "needs_background": "light"
     },
     "output_type": "display_data"
    }
   ],
   "source": [
    "sns.heatmap(titanic_train_corr)"
   ]
  },
  {
   "cell_type": "code",
   "execution_count": 7,
   "metadata": {},
   "outputs": [
    {
     "data": {
      "text/html": [
       "<div>\n",
       "<style scoped>\n",
       "    .dataframe tbody tr th:only-of-type {\n",
       "        vertical-align: middle;\n",
       "    }\n",
       "\n",
       "    .dataframe tbody tr th {\n",
       "        vertical-align: top;\n",
       "    }\n",
       "\n",
       "    .dataframe thead th {\n",
       "        text-align: right;\n",
       "    }\n",
       "</style>\n",
       "<table border=\"1\" class=\"dataframe\">\n",
       "  <thead>\n",
       "    <tr style=\"text-align: right;\">\n",
       "      <th></th>\n",
       "      <th>passenger_id</th>\n",
       "      <th>pclass</th>\n",
       "      <th>age</th>\n",
       "      <th>fare</th>\n",
       "      <th>survived</th>\n",
       "    </tr>\n",
       "  </thead>\n",
       "  <tbody>\n",
       "    <tr>\n",
       "      <th>passenger_id</th>\n",
       "      <td>1.000000</td>\n",
       "      <td>0.890571</td>\n",
       "      <td>-0.347436</td>\n",
       "      <td>-0.499334</td>\n",
       "      <td>-0.326123</td>\n",
       "    </tr>\n",
       "    <tr>\n",
       "      <th>pclass</th>\n",
       "      <td>0.890571</td>\n",
       "      <td>1.000000</td>\n",
       "      <td>-0.410071</td>\n",
       "      <td>-0.577234</td>\n",
       "      <td>-0.357697</td>\n",
       "    </tr>\n",
       "    <tr>\n",
       "      <th>age</th>\n",
       "      <td>-0.347436</td>\n",
       "      <td>-0.410071</td>\n",
       "      <td>1.000000</td>\n",
       "      <td>0.194107</td>\n",
       "      <td>-0.041436</td>\n",
       "    </tr>\n",
       "    <tr>\n",
       "      <th>fare</th>\n",
       "      <td>-0.499334</td>\n",
       "      <td>-0.577234</td>\n",
       "      <td>0.194107</td>\n",
       "      <td>1.000000</td>\n",
       "      <td>0.267222</td>\n",
       "    </tr>\n",
       "    <tr>\n",
       "      <th>survived</th>\n",
       "      <td>-0.326123</td>\n",
       "      <td>-0.357697</td>\n",
       "      <td>-0.041436</td>\n",
       "      <td>0.267222</td>\n",
       "      <td>1.000000</td>\n",
       "    </tr>\n",
       "  </tbody>\n",
       "</table>\n",
       "</div>"
      ],
      "text/plain": [
       "              passenger_id    pclass       age      fare  survived\n",
       "passenger_id      1.000000  0.890571 -0.347436 -0.499334 -0.326123\n",
       "pclass            0.890571  1.000000 -0.410071 -0.577234 -0.357697\n",
       "age              -0.347436 -0.410071  1.000000  0.194107 -0.041436\n",
       "fare             -0.499334 -0.577234  0.194107  1.000000  0.267222\n",
       "survived         -0.326123 -0.357697 -0.041436  0.267222  1.000000"
      ]
     },
     "execution_count": 7,
     "metadata": {},
     "output_type": "execute_result"
    }
   ],
   "source": [
    "titanic_train_corr"
   ]
  },
  {
   "cell_type": "code",
   "execution_count": 8,
   "metadata": {
    "scrolled": true
   },
   "outputs": [
    {
     "data": {
      "text/html": [
       "<div>\n",
       "<style scoped>\n",
       "    .dataframe tbody tr th:only-of-type {\n",
       "        vertical-align: middle;\n",
       "    }\n",
       "\n",
       "    .dataframe tbody tr th {\n",
       "        vertical-align: top;\n",
       "    }\n",
       "\n",
       "    .dataframe thead th {\n",
       "        text-align: right;\n",
       "    }\n",
       "</style>\n",
       "<table border=\"1\" class=\"dataframe\">\n",
       "  <thead>\n",
       "    <tr style=\"text-align: right;\">\n",
       "      <th></th>\n",
       "      <th>passenger_id</th>\n",
       "      <th>pclass</th>\n",
       "      <th>sex</th>\n",
       "      <th>age</th>\n",
       "      <th>fare</th>\n",
       "      <th>embarked</th>\n",
       "      <th>survived</th>\n",
       "    </tr>\n",
       "  </thead>\n",
       "  <tbody>\n",
       "    <tr>\n",
       "      <th>1</th>\n",
       "      <td>699</td>\n",
       "      <td>3</td>\n",
       "      <td>male</td>\n",
       "      <td>38.0</td>\n",
       "      <td>8.6625</td>\n",
       "      <td>S</td>\n",
       "      <td>0</td>\n",
       "    </tr>\n",
       "    <tr>\n",
       "      <th>2</th>\n",
       "      <td>1267</td>\n",
       "      <td>3</td>\n",
       "      <td>female</td>\n",
       "      <td>30.0</td>\n",
       "      <td>24.1500</td>\n",
       "      <td>S</td>\n",
       "      <td>0</td>\n",
       "    </tr>\n",
       "    <tr>\n",
       "      <th>3</th>\n",
       "      <td>449</td>\n",
       "      <td>2</td>\n",
       "      <td>female</td>\n",
       "      <td>54.0</td>\n",
       "      <td>23.0000</td>\n",
       "      <td>S</td>\n",
       "      <td>1</td>\n",
       "    </tr>\n",
       "    <tr>\n",
       "      <th>4</th>\n",
       "      <td>576</td>\n",
       "      <td>2</td>\n",
       "      <td>male</td>\n",
       "      <td>40.0</td>\n",
       "      <td>13.0000</td>\n",
       "      <td>S</td>\n",
       "      <td>0</td>\n",
       "    </tr>\n",
       "    <tr>\n",
       "      <th>5</th>\n",
       "      <td>1083</td>\n",
       "      <td>3</td>\n",
       "      <td>male</td>\n",
       "      <td>28.0</td>\n",
       "      <td>22.5250</td>\n",
       "      <td>S</td>\n",
       "      <td>0</td>\n",
       "    </tr>\n",
       "    <tr>\n",
       "      <th>...</th>\n",
       "      <td>...</td>\n",
       "      <td>...</td>\n",
       "      <td>...</td>\n",
       "      <td>...</td>\n",
       "      <td>...</td>\n",
       "      <td>...</td>\n",
       "      <td>...</td>\n",
       "    </tr>\n",
       "    <tr>\n",
       "      <th>845</th>\n",
       "      <td>158</td>\n",
       "      <td>1</td>\n",
       "      <td>male</td>\n",
       "      <td>55.0</td>\n",
       "      <td>50.0000</td>\n",
       "      <td>S</td>\n",
       "      <td>0</td>\n",
       "    </tr>\n",
       "    <tr>\n",
       "      <th>846</th>\n",
       "      <td>174</td>\n",
       "      <td>1</td>\n",
       "      <td>male</td>\n",
       "      <td>58.0</td>\n",
       "      <td>29.7000</td>\n",
       "      <td>C</td>\n",
       "      <td>0</td>\n",
       "    </tr>\n",
       "    <tr>\n",
       "      <th>847</th>\n",
       "      <td>467</td>\n",
       "      <td>2</td>\n",
       "      <td>female</td>\n",
       "      <td>24.0</td>\n",
       "      <td>26.0000</td>\n",
       "      <td>S</td>\n",
       "      <td>1</td>\n",
       "    </tr>\n",
       "    <tr>\n",
       "      <th>848</th>\n",
       "      <td>1112</td>\n",
       "      <td>3</td>\n",
       "      <td>female</td>\n",
       "      <td>3.0</td>\n",
       "      <td>13.7750</td>\n",
       "      <td>S</td>\n",
       "      <td>0</td>\n",
       "    </tr>\n",
       "    <tr>\n",
       "      <th>849</th>\n",
       "      <td>425</td>\n",
       "      <td>2</td>\n",
       "      <td>male</td>\n",
       "      <td>52.0</td>\n",
       "      <td>13.0000</td>\n",
       "      <td>S</td>\n",
       "      <td>0</td>\n",
       "    </tr>\n",
       "  </tbody>\n",
       "</table>\n",
       "<p>674 rows × 7 columns</p>\n",
       "</div>"
      ],
      "text/plain": [
       "     passenger_id  pclass     sex   age     fare embarked  survived\n",
       "1             699       3    male  38.0   8.6625        S         0\n",
       "2            1267       3  female  30.0  24.1500        S         0\n",
       "3             449       2  female  54.0  23.0000        S         1\n",
       "4             576       2    male  40.0  13.0000        S         0\n",
       "5            1083       3    male  28.0  22.5250        S         0\n",
       "..            ...     ...     ...   ...      ...      ...       ...\n",
       "845           158       1    male  55.0  50.0000        S         0\n",
       "846           174       1    male  58.0  29.7000        C         0\n",
       "847           467       2  female  24.0  26.0000        S         1\n",
       "848          1112       3  female   3.0  13.7750        S         0\n",
       "849           425       2    male  52.0  13.0000        S         0\n",
       "\n",
       "[674 rows x 7 columns]"
      ]
     },
     "execution_count": 8,
     "metadata": {},
     "output_type": "execute_result"
    }
   ],
   "source": [
    "titanic_train_drop "
   ]
  },
  {
   "cell_type": "code",
   "execution_count": 9,
   "metadata": {},
   "outputs": [],
   "source": [
    "titanic_test_drop = titanic_test[[\"passenger_id\", \"pclass\", \"sex\", \"age\", \"fare\", \"embarked\"]].dropna()"
   ]
  },
  {
   "cell_type": "code",
   "execution_count": 10,
   "metadata": {},
   "outputs": [],
   "source": [
    "titanic_train_drop.to_csv(\"../data/titanic_train_dropna.csv\")\n",
    "titanic_test_drop.to_csv(\"../data/titanic_test_dropna.csv\")"
   ]
  },
  {
   "cell_type": "code",
   "execution_count": null,
   "metadata": {},
   "outputs": [],
   "source": []
  }
 ],
 "metadata": {
  "kernelspec": {
   "display_name": "deploy-course-hse-env",
   "language": "python",
   "name": "deploy-course-hse-env"
  },
  "language_info": {
   "codemirror_mode": {
    "name": "ipython",
    "version": 3
   },
   "file_extension": ".py",
   "mimetype": "text/x-python",
   "name": "python",
   "nbconvert_exporter": "python",
   "pygments_lexer": "ipython3",
   "version": "3.7.7"
  }
 },
 "nbformat": 4,
 "nbformat_minor": 2
}
